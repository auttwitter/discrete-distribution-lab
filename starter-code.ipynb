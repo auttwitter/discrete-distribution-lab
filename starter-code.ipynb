{
 "cells": [
  {
   "cell_type": "markdown",
   "metadata": {},
   "source": [
    "# \"Fun with Loot Boxes\" Lab\n",
    "\n",
    "> Author: Caroline Schmitt, Matt Brems\n",
    "\n",
    "### Scenario:\n",
    "\n",
    "You're an analyst for [Zynga](https://en.wikipedia.org/wiki/Zynga), a gaming studio working on an event for an MMO (massively multiplayer online) game. This event is going to include **loot boxes**.\n",
    "\n",
    "<img src=\"https://vignette.wikia.nocookie.net/2007scape/images/0/06/Culinaromancer%27s_chest.png/revision/latest?cb=20180403231423\" alt=\"drawing\" width=\"150\"/> \n",
    "\n",
    "A loot box is basically a treasure chest in a game. This loot box can be opened to reveal a variety of items: some items are very rare and valuable, other items are common and less valuable. (You may consult [the esteemed Wikipedia](https://en.wikipedia.org/wiki/Loot_box) for a more extensive definition.)\n",
    "\n",
    "In our specific game, suppose that loot boxes can be obtained in one of two ways: \n",
    "- After every three hours of playing the game, a user will earn one loot box.\n",
    "- If the user wishes to purchase a loot box, they may pay $1 (in real money!) for a loot box.\n",
    "\n",
    "These loot boxes are very good for our business!\n",
    "- If a player earns a loot box, it means they are spending lots of time on the game. This often leads to advertisement revenue, they may tell their friends to join the game, etc.\n",
    "- If the player purchases a loot box, it means we've earned $1 from our customer.\n",
    "\n",
    "Suppose each loot box is opened to reveal either:\n",
    "- magical elixir (super rare, very valuable), or\n",
    "- nothing.\n",
    "\n",
    "Whether each loot box contains the elixir or nothing is **random**. Our boss wants some guidance on what sort of randomness to use on these loot boxes! \n",
    "- If the magical elixir is too rare, then users may not be motivated to try to get them, because they believe they'll never find the magical elixir.\n",
    "- If the magical elixir is too common, then users may not be motivated to try to get them, because the game has so much of the magical elixir that it isn't worthwhile to try to get it.\n",
    "\n",
    "However, our boss isn't a math-y type person! When explaining things to our boss, we need to explain the impact of our choices on the game as concretely as possible.\n",
    "\n",
    "### Version 1\n",
    "In our first version of the game, we'll say that loot boxes contain magical elixir 15% of the time and nothing 85% of the time.\n",
    "\n",
    "#### 1. Our boss asks, \"If a user buys 100 loot boxes, how many elixirs will they get?\" How would you respond?"
   ]
  },
  {
   "cell_type": "markdown",
   "metadata": {},
   "source": [
    "**Answer** They will get around 15 elixirs on average."
   ]
  },
  {
   "cell_type": "markdown",
   "metadata": {},
   "source": [
    "#### 2. Our boss asks, \"How many loot boxes does someone have to purchase in order to definitely get elixir?\" How would you respond?"
   ]
  },
  {
   "cell_type": "markdown",
   "metadata": {},
   "source": [
    "**Answer** Definitely, it is based on luck. But in average, a user should have an elixir after buying $\\dfrac{1}{0.15} \\approx 7$ loot boxes."
   ]
  },
  {
   "cell_type": "markdown",
   "metadata": {},
   "source": [
    "#### 3. Our boss asks, \"If a user earns 100 loot boxes, what is the chance that a user gets more than 20 elixirs?\" This is a bit more complicated, so let's break it down before answering."
   ]
  },
  {
   "cell_type": "markdown",
   "metadata": {},
   "source": [
    "#### 3a. Let's suppose my random variable $X$ counts up how many elixirs I observe out of my 100 loot boxes. Why is $X$ a discrete random variable?"
   ]
  },
  {
   "cell_type": "markdown",
   "metadata": {},
   "source": [
    "**Answer** The possible values of $X$ are the set of countable $\\{1,2,3,\\ldots,100\\}$, so $X$ is a discrete random variable."
   ]
  },
  {
   "cell_type": "markdown",
   "metadata": {},
   "source": [
    "#### 3b. Recall our discrete distributions: discrete uniform, Bernoulli, binomial, Poisson. Let's suppose my random variable $X$ counts up how many elixirs I observe out of my 100 loot boxes. What distribution is best suited for $X$? Why?\n",
    "- Hint: It may help to consider getting the magical elixir a \"success\" and getting nothing a \"failure.\" "
   ]
  },
  {
   "cell_type": "markdown",
   "metadata": {},
   "source": [
    "**Answer** $X$ is binomial Distribution. Because outcomes of each loot box are independent from each other and the probability of getting an elixir (success) from each loot box is equal."
   ]
  },
  {
   "cell_type": "markdown",
   "metadata": {},
   "source": [
    "#### 3c. Our boss asks, \"If a user earns 100 loot boxes, what is the chance that a user gets more than 20 elixirs?\" Use the probability mass function to answer the boss' question."
   ]
  },
  {
   "cell_type": "code",
   "execution_count": 39,
   "metadata": {},
   "outputs": [
    {
     "name": "stdout",
     "output_type": "stream",
     "text": [
      "0.06631976581888208\n"
     ]
    }
   ],
   "source": [
    "import scipy.stats as stats               # For making distribution\n",
    "\n",
    "p = 0.15                                  # Probability of success (getting elixir)\n",
    "n = 100                                   # Number of loot boxes\n",
    "\n",
    "X = stats.binom(n,p)                      # X is binomial distribution\n",
    "\n",
    "P = 1                                     # Set initital P\n",
    "for x in range(20 + 1):\n",
    "    P = P - X.pmf(x)                      # Run loop to subtract probability of getting x elixirs where x in 0,1,2,...,20\n",
    "\n",
    "print(P)                                  # Print answer = 0.0663"
   ]
  },
  {
   "cell_type": "markdown",
   "metadata": {},
   "source": [
    "#### 3d. Our boss asks, \"If a user earns 100 loot boxes, what is the chance that a user gets more than 20 elixirs?\" Use the cumulative distribution function to answer the boss' question."
   ]
  },
  {
   "cell_type": "code",
   "execution_count": 37,
   "metadata": {},
   "outputs": [
    {
     "name": "stdout",
     "output_type": "stream",
     "text": [
      "6.63%\n"
     ]
    }
   ],
   "source": [
    "print(f'{(1 - X.cdf(20))*100:.2f}%')      # The probability of getting more than 20 elixits is 6.63%"
   ]
  },
  {
   "cell_type": "markdown",
   "metadata": {},
   "source": [
    "#### 3e. Our boss asks, \"If a user earns 100 loot boxes, what is the chance that a user gets more than 20 elixirs?\" Answer your boss' question. *Remember that your boss is not a math-y person!*"
   ]
  },
  {
   "cell_type": "code",
   "execution_count": 41,
   "metadata": {},
   "outputs": [],
   "source": [
    "# Only 6 - 7 users out of 100 will get more than 20 elixirs after earns 100 loot boxes"
   ]
  },
  {
   "cell_type": "markdown",
   "metadata": {},
   "source": [
    "#### 4. Your boss wants to know how many people purchased how many loot boxes last month. \n",
    "> For example, last month, 70% of users did not purchase any loot boxes. 10% of people purchased one loot box. 5% of people purchased two loot boxes... and so on.\n",
    "\n",
    "#### 4a. Recall our discrete distributions: discrete uniform, Bernoulli, binomial, Poisson. Let's suppose my random variable $Y$ counts up how many loot boxes each person purchased through the game last month. What distribution is best suited for $Y$? Why?"
   ]
  },
  {
   "cell_type": "markdown",
   "metadata": {},
   "source": [
    "**Answer** $Y$ is Poisson distribution since the set of possible outcoumes is infinite countable and the average of outcomes is known."
   ]
  },
  {
   "cell_type": "markdown",
   "metadata": {},
   "source": [
    "#### 4b. Suppose that, on average, your customers purchased 2.7 loot boxes last month. In order for your revenue to be at least $500,000, at least how many users would you need on your platform? (Round your answer up to the nearest thousand.) "
   ]
  },
  {
   "cell_type": "code",
   "execution_count": 164,
   "metadata": {},
   "outputs": [
    {
     "name": "stdout",
     "output_type": "stream",
     "text": [
      "185761.0\n"
     ]
    }
   ],
   "source": [
    "import scipy.stats as stats\n",
    "\n",
    "lmbd = 2.7                                # Average number of loot boxes purchased per customer\n",
    "target_revenue = 500_000                  # Target revenue in dollars\n",
    "Y = stats.poisson(lmbd)                   # Poisson distribution with lambda = 2.7\n",
    "\n",
    "ls = []\n",
    "\n",
    "for i in range(100):                      # Run simulation 100 times\n",
    "    user = 0                              # Initialize customer counter\n",
    "    revn = 0                              # Initialize revenue counter\n",
    "    while revn < target_revenue:          # Continue until total revenue reaches $500,000\n",
    "        revn += Y.rvs(1)                  # Simulate the loot box purchases for one user and add to revenue\n",
    "        user += 1                         # Increment the customer count\n",
    "    ls.append(user)                       # Record the number of customers needed to reach $500,000 revenue\n",
    "\n",
    "avg_users_needed = sum(ls) / len(ls)      # Calculate average number of customers needed\n",
    "print(avg_users_needed)                   # Output result 185_000"
   ]
  },
  {
   "cell_type": "markdown",
   "metadata": {},
   "source": [
    "#### 4c. Assume that your platform has the numer of users you mentioned in your last answer. Suppose that your platform calls anyone who purchases 5 or more loot boxes in a month a \"high value user.\" How much money do you expect to have earned from \"high value users?\" How about \"low value users?\""
   ]
  },
  {
   "cell_type": "code",
   "execution_count": null,
   "metadata": {},
   "outputs": [],
   "source": [
    "# The average revenue per customers = 2.7 loot boxes = 2.7$ \n",
    "# Total customers = 185_000"
   ]
  },
  {
   "cell_type": "code",
   "execution_count": 248,
   "metadata": {},
   "outputs": [],
   "source": [
    "# Expected Revenue from High Value User\n",
    "# It is conditional probability E(X | X >= 5) = E(X >= 5) / P(X >= 5)\n",
    "\n",
    "expected_value_high = Y.expect(lambda x: x, lb = 5)       # E(X >= 5) = 0.77\n",
    "prob_value_high = 1 - Y.cdf(4)                            # P(X >= 5) = 0.14\n",
    "condi_value_high = expected_value_high / prob_value_high  # E(X | X >= 5) = 5.63\n",
    "\n",
    "# Expected Revenue from Low Value User\n",
    "# It is conditional probability E(X | X < 5) = E(X < 5) / P(X < 5)\n",
    "expected_value_low = Y.expect(lambda x: x, ub = 4)        # E(X < 5) = 1.93\n",
    "prob_value_low = Y.cdf(4)                                 # P(X < 5) = 0.86\n",
    "condi_value_low = expected_value_low / prob_value_low     # E(X | X >= 5) = 2.23"
   ]
  },
  {
   "cell_type": "code",
   "execution_count": 254,
   "metadata": {},
   "outputs": [
    {
     "name": "stdout",
     "output_type": "stream",
     "text": [
      "Revenue expect from high value customers is 142811.\n"
     ]
    }
   ],
   "source": [
    "# Revenue from High Values = Number of High Values customer * Expected Revenue of high value customers\n",
    "#                          = [185_000 * (prob_value_high)] * [expected_value_high / prob_value_high]\n",
    "#                          = 185_000 * expected_value_high\n",
    "\n",
    "ans_high = 185_000 * expected_value_high     # 142_811\n",
    "print(f'Revenue expect from high value customers is {ans_high:.0f}.') "
   ]
  },
  {
   "cell_type": "code",
   "execution_count": 256,
   "metadata": {},
   "outputs": [
    {
     "name": "stdout",
     "output_type": "stream",
     "text": [
      "Revenue expect from low value customers is 356689.\n"
     ]
    }
   ],
   "source": [
    "ans_low = 185_000 * expected_value_low    # 356_689\n",
    "print(f'Revenue expect from low value customers is {ans_low:.0f}.') "
   ]
  },
  {
   "cell_type": "code",
   "execution_count": 258,
   "metadata": {},
   "outputs": [
    {
     "data": {
      "text/plain": [
       "0.28590782438378887"
      ]
     },
     "execution_count": 258,
     "metadata": {},
     "output_type": "execute_result"
    }
   ],
   "source": [
    "ans_high / (ans_high + ans_low)   # for summarize"
   ]
  },
  {
   "cell_type": "markdown",
   "metadata": {},
   "source": [
    "#### 4d. Suppose that you want to summarize how many people purchased how many loot boxes last month for your boss. Since your boss isn't math-y, what are 2-4 summary numbers you might use to summarize this for your boss? (Your answers will vary here - use your judgment!)"
   ]
  },
  {
   "cell_type": "markdown",
   "metadata": {},
   "source": [
    "**Answer** \n",
    "1) To gain minimum revenue of 500,000\\$, we need around 185,000 customers\n",
    "2) Average user buy 2.7 loot boxes monthly \n",
    "3) There are around 14\\% of customers, classified as High Value Customers, buy 5.63 loot boxes monthly on average, generate 29\\% of total revenue\n",
    "4) There are around 86\\% of customers, classified as Low Value Customers, buy 2.23 loot boxes monthly on average, generate 71\\% of total revenue"
   ]
  },
  {
   "cell_type": "markdown",
   "metadata": {},
   "source": [
    "#### 5. Your boss asks \"How many loot boxes does it take before someone gets their first elixir?\" Using `np.random.choice`, simulate how many loot boxes it takes somone to get their first elixir. \n",
    "- Start an empty list.\n",
    "- Use control flow to have someone open loot boxes repeatedly.\n",
    "- Once they open a loot box containing an elixir, record the number of loot boxes it took in the empty list.\n",
    "- Repeat this process 100,000 times. \n",
    "\n",
    "This simulates how long it takes for someone to open a loot box containing elixir. Share the 5th, 25th, 50th, 75th, and 95th percentiles.\n",
    "\n",
    "> You may find [this documentation](https://docs.scipy.org/doc/numpy/reference/generated/numpy.random.choice.html)  and [this documentation](https://docs.scipy.org/doc/numpy/reference/generated/numpy.percentile.html) helpful."
   ]
  },
  {
   "cell_type": "code",
   "execution_count": 263,
   "metadata": {},
   "outputs": [],
   "source": [
    "import numpy as np                                                               # Needed Library\n",
    "\n",
    "ls = []\n",
    "for i in range(100_000):                                                         # run simulation 100,000 times\n",
    "    open = 1                                                                     # initial number of opening boxes\n",
    "    while np.random.choice(2, 1, p = [0.15, 0.85], replace = True) == 1:         # the box didn't contain elixirs\n",
    "        open += 1                                                                # increment the counter\n",
    "    ls.append(open)"
   ]
  },
  {
   "cell_type": "code",
   "execution_count": 269,
   "metadata": {},
   "outputs": [
    {
     "data": {
      "text/plain": [
       "6.65556"
      ]
     },
     "execution_count": 269,
     "metadata": {},
     "output_type": "execute_result"
    }
   ],
   "source": [
    "sum(ls) / len(ls)           # around 6.7 loots boxes, consistent with 1 / 0.15"
   ]
  },
  {
   "cell_type": "code",
   "execution_count": 281,
   "metadata": {},
   "outputs": [
    {
     "data": {
      "text/plain": [
       "quantile_5      1.0\n",
       "quantile_25     2.0\n",
       "quantile_50     5.0\n",
       "quantile_75     9.0\n",
       "quantile_95    19.0\n",
       "dtype: float64"
      ]
     },
     "execution_count": 281,
     "metadata": {},
     "output_type": "execute_result"
    }
   ],
   "source": [
    "import pandas as pd\n",
    "\n",
    "ds = pd.Series(ls)          # make the list as Pandas Series\n",
    "\n",
    "ds.agg(quantile_5 = lambda x: x.quantile(0.05)\n",
    "      , quantile_25 = lambda x: x.quantile(0.25)\n",
    "      , quantile_50 = lambda x: x.quantile(0.50)\n",
    "       , quantile_75 = lambda x: x.quantile(0.75)\n",
    "       , quantile_95 = lambda x: x.quantile(0.95)\n",
    "      )"
   ]
  },
  {
   "cell_type": "markdown",
   "metadata": {},
   "source": [
    "**Answer**: $P_{5} = 1, P_{25} = 2, P_{50} = 5, P_{75} = 9, P_{95} = 19$"
   ]
  },
  {
   "cell_type": "markdown",
   "metadata": {},
   "source": [
    "### Version 2\n",
    "\n",
    "After a substantial update to the game, suppose every loot box can be opened to reveal *one of four different* items:\n",
    "- magical elixir (occurs 1% of the time, most valuable)\n",
    "- golden pendant (occurs 9% of the time, valuable)\n",
    "- steel armor (occurs 30% of the time, semi-valuable)\n",
    "- bronze coin (occurs 60% of the time, least valuable)"
   ]
  },
  {
   "cell_type": "markdown",
   "metadata": {},
   "source": [
    "#### 6. Suppose you want repeat problem 5 above, but do that for the version 2 loot boxes so you can track how many loot boxes are needed to get each item? (e.g. You'd like to be able to say that on average it takes 10 trials to get a golden pendant, 3 trials to get steel armor, and so on.) What Python datatype is the best way to store this data? Why?"
   ]
  },
  {
   "cell_type": "markdown",
   "metadata": {},
   "source": [
    "**Answer**: Set, because it contains only unique element. But, I prefer dictionary for easy to check the number of each item I get from the loot boxes"
   ]
  },
  {
   "cell_type": "markdown",
   "metadata": {},
   "source": [
    "#### 7. Suppose you and your boss want to measure whether \"Version 2\" is better than \"Version 1.\" What metrics do you think are important to measure? (Your answers will vary here - use your judgment!)"
   ]
  },
  {
   "cell_type": "markdown",
   "metadata": {},
   "source": [
    "**Answer** the number of boxes using to get the magical elixir (suppose all players want it), because they will pay (average dollars) to get this item"
   ]
  }
 ],
 "metadata": {
  "kernelspec": {
   "display_name": "Python 3 (ipykernel)",
   "language": "python",
   "name": "python3"
  },
  "language_info": {
   "codemirror_mode": {
    "name": "ipython",
    "version": 3
   },
   "file_extension": ".py",
   "mimetype": "text/x-python",
   "name": "python",
   "nbconvert_exporter": "python",
   "pygments_lexer": "ipython3",
   "version": "3.12.4"
  }
 },
 "nbformat": 4,
 "nbformat_minor": 4
}
